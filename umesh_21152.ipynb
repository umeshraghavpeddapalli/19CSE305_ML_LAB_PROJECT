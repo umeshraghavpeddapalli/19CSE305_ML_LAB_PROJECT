{
  "metadata": {
    "language_info": {
      "codemirror_mode": {
        "name": "python",
        "version": 3
      },
      "file_extension": ".py",
      "mimetype": "text/x-python",
      "name": "python",
      "nbconvert_exporter": "python",
      "pygments_lexer": "ipython3",
      "version": "3.8"
    },
    "kernelspec": {
      "name": "python",
      "display_name": "Python (Pyodide)",
      "language": "python"
    }
  },
  "nbformat_minor": 4,
  "nbformat": 4,
  "cells": [
    {
      "cell_type": "code",
      "source": "import pandas as pd\nimport numpy as np",
      "metadata": {
        "trusted": true
      },
      "execution_count": 1,
      "outputs": []
    },
    {
      "cell_type": "code",
      "source": "data = {\n    'age': ['<=30', '<=30', '31…40', '>40', '>40', '>40', '31…40', '<=30', '<=30', '>40', '<=30', '31…40', '31…40', '>40'],\n    'income': ['high', 'high', 'high', 'medium', 'low', 'low', 'low', 'medium', 'low', 'medium', 'medium', 'medium', 'high', 'medium'],\n    'student': ['no', 'no', 'no', 'no', 'yes', 'yes', 'yes', 'no', 'yes', 'yes', 'yes', 'no', 'yes', 'no'],\n    'credit_rating': ['fair', 'excellent', 'fair', 'fair', 'fair', 'excellent', 'excellent', 'fair', 'fair', 'fair', 'excellent', 'excellent', 'fair', 'excellent'],\n    'buys_computer': ['no', 'no', 'yes', 'yes', 'yes', 'no', 'yes', 'no', 'yes', 'yes', 'yes', 'yes', 'yes', 'no']\n}\n\n \n\nresult = pd.DataFrame(data)\nprint(result)",
      "metadata": {
        "trusted": true
      },
      "execution_count": 2,
      "outputs": [
        {
          "name": "stdout",
          "text": "      age  income student credit_rating buys_computer\n0    <=30    high      no          fair            no\n1    <=30    high      no     excellent            no\n2   31…40    high      no          fair           yes\n3     >40  medium      no          fair           yes\n4     >40     low     yes          fair           yes\n5     >40     low     yes     excellent            no\n6   31…40     low     yes     excellent           yes\n7    <=30  medium      no          fair            no\n8    <=30     low     yes          fair           yes\n9     >40  medium     yes          fair           yes\n10   <=30  medium     yes     excellent           yes\n11  31…40  medium      no     excellent           yes\n12  31…40    high     yes          fair           yes\n13    >40  medium      no     excellent            no\n",
          "output_type": "stream"
        }
      ]
    },
    {
      "cell_type": "code",
      "source": "import math\ndef entropy(attribute):\n    values = result [attribute].unique()\n    entropy = 0\n    for value in values:\n        p = len(result [result [attribute] == value]) / len(result )\n        entropy += -p * math.log2(p)\n    return entropy\n\n \n\nage_entropy = entropy('age')\nincome_entropy = entropy('income')\nstudent_entropy = entropy('student')\ncredit_rating_entropy = entropy('credit_rating')\nbuys_computer_entropy = entropy('buys_computer')\nprint('Entropy of Age:', age_entropy)\nprint('Entropy of Income:', income_entropy)\nprint('Entropy of Student:', student_entropy)\nprint('Entropy of Credit Rating:', credit_rating_entropy)\nprint('Entropy of Buys Computer:', buys_computer_entropy)\n\n \n\ndef info_gain(attribute):\n    values = result[attribute].unique()\n    info_gain = buys_computer_entropy\n    for value in values:\n        subset = result [result [attribute] == value]\n        p = len(subset) / len(result)\n        info_gain -= p * entropy('buys_computer')\n    return info_gain\n\n \n\nage_info_gain = info_gain('age')\nincome_info_gain = info_gain('income')\nstudent_info_gain = info_gain('student')\ncredit_rating_info_gain = info_gain('credit_rating')\n\n \n\nprint('Age Info Gain:', age_information_gain)\nprint('Income Info Gain:', income_information_gain)\nprint('Student Info Gain:', student_information_gain)\nprint('Credit Rating Info Gain:', credit_rating_information_gain)\n\n \n\nroot_node = max(age_information_gain, income_information_gain, student_information_gain, credit_rating_information_gain)\nif root_node == age_information_gain:\n    print('The first feature for constructing the decision tree is Age.')\nelif root_node == income_information_gain:\n    print('The first feature for constructing the decision tree is Income.')\nelif root_node == student_information_gain:\n    print('The first feature for constructing the decision tree is Student.')\nelse:\n    print('The first feature for constructing the decision tree is Credit Rating.')\n\n ",
      "metadata": {
        "trusted": true
      },
      "execution_count": 11,
      "outputs": [
        {
          "name": "stdout",
          "text":  1.5774062828523454\n  1.5566567074628228\n 1.0\n 0.9852281360342515 0.9402859586706311\ 1.1102230246251565e-16\n 1.6653345369377348e-16\nStudent Info Gain: 0.0 1.1102230246251565e-16\n\n",
          "output_type": "stream"
        }
      ]
    },
    {
      "cell_type": "code",
      "source": "",
      "metadata": {},
      "execution_count": null,
      "outputs": []
    }
  ]
}
