{
 "cells": [
  {
   "cell_type": "code",
   "execution_count": 1,
   "id": "e38376c5",
   "metadata": {},
   "outputs": [
    {
     "data": {
      "text/html": [
       "<div>\n",
       "<style scoped>\n",
       "    .dataframe tbody tr th:only-of-type {\n",
       "        vertical-align: middle;\n",
       "    }\n",
       "\n",
       "    .dataframe tbody tr th {\n",
       "        vertical-align: top;\n",
       "    }\n",
       "\n",
       "    .dataframe thead th {\n",
       "        text-align: right;\n",
       "    }\n",
       "</style>\n",
       "<table border=\"1\" class=\"dataframe\">\n",
       "  <thead>\n",
       "    <tr style=\"text-align: right;\">\n",
       "      <th></th>\n",
       "      <th>0</th>\n",
       "      <th>1</th>\n",
       "      <th>2</th>\n",
       "      <th>3</th>\n",
       "      <th>4</th>\n",
       "      <th>5</th>\n",
       "      <th>6</th>\n",
       "      <th>7</th>\n",
       "      <th>8</th>\n",
       "      <th>9</th>\n",
       "      <th>...</th>\n",
       "      <th>55</th>\n",
       "      <th>56</th>\n",
       "      <th>57</th>\n",
       "      <th>58</th>\n",
       "      <th>59</th>\n",
       "      <th>60</th>\n",
       "      <th>61</th>\n",
       "      <th>62</th>\n",
       "      <th>63</th>\n",
       "      <th>class_name</th>\n",
       "    </tr>\n",
       "  </thead>\n",
       "  <tbody>\n",
       "    <tr>\n",
       "      <th>0</th>\n",
       "      <td>27.630783</td>\n",
       "      <td>0.000000</td>\n",
       "      <td>51.067493</td>\n",
       "      <td>0.0</td>\n",
       "      <td>26.302004</td>\n",
       "      <td>0.000000</td>\n",
       "      <td>0.000000</td>\n",
       "      <td>0.0</td>\n",
       "      <td>0.0</td>\n",
       "      <td>0.000000</td>\n",
       "      <td>...</td>\n",
       "      <td>35.563477</td>\n",
       "      <td>8.822042</td>\n",
       "      <td>0.0</td>\n",
       "      <td>18.269510</td>\n",
       "      <td>82.596970</td>\n",
       "      <td>0.000000</td>\n",
       "      <td>0.000000</td>\n",
       "      <td>1.751286</td>\n",
       "      <td>0.0</td>\n",
       "      <td>3333</td>\n",
       "    </tr>\n",
       "    <tr>\n",
       "      <th>1</th>\n",
       "      <td>41.934185</td>\n",
       "      <td>0.000000</td>\n",
       "      <td>57.616398</td>\n",
       "      <td>0.0</td>\n",
       "      <td>40.345722</td>\n",
       "      <td>0.000000</td>\n",
       "      <td>0.000000</td>\n",
       "      <td>0.0</td>\n",
       "      <td>0.0</td>\n",
       "      <td>0.000000</td>\n",
       "      <td>...</td>\n",
       "      <td>33.432617</td>\n",
       "      <td>22.573324</td>\n",
       "      <td>0.0</td>\n",
       "      <td>25.266916</td>\n",
       "      <td>71.188900</td>\n",
       "      <td>0.000000</td>\n",
       "      <td>0.000000</td>\n",
       "      <td>0.000000</td>\n",
       "      <td>0.0</td>\n",
       "      <td>3333</td>\n",
       "    </tr>\n",
       "    <tr>\n",
       "      <th>2</th>\n",
       "      <td>59.681458</td>\n",
       "      <td>0.000000</td>\n",
       "      <td>35.450397</td>\n",
       "      <td>0.0</td>\n",
       "      <td>51.084698</td>\n",
       "      <td>0.000000</td>\n",
       "      <td>0.000000</td>\n",
       "      <td>0.0</td>\n",
       "      <td>0.0</td>\n",
       "      <td>4.531399</td>\n",
       "      <td>...</td>\n",
       "      <td>17.747238</td>\n",
       "      <td>22.295591</td>\n",
       "      <td>0.0</td>\n",
       "      <td>9.600313</td>\n",
       "      <td>39.380276</td>\n",
       "      <td>0.000000</td>\n",
       "      <td>0.000000</td>\n",
       "      <td>13.358544</td>\n",
       "      <td>0.0</td>\n",
       "      <td>3333</td>\n",
       "    </tr>\n",
       "    <tr>\n",
       "      <th>3</th>\n",
       "      <td>25.652845</td>\n",
       "      <td>0.000000</td>\n",
       "      <td>42.711246</td>\n",
       "      <td>0.0</td>\n",
       "      <td>26.391441</td>\n",
       "      <td>0.000000</td>\n",
       "      <td>0.000000</td>\n",
       "      <td>0.0</td>\n",
       "      <td>0.0</td>\n",
       "      <td>0.000000</td>\n",
       "      <td>...</td>\n",
       "      <td>25.998358</td>\n",
       "      <td>12.029038</td>\n",
       "      <td>0.0</td>\n",
       "      <td>19.127953</td>\n",
       "      <td>60.226376</td>\n",
       "      <td>0.000000</td>\n",
       "      <td>0.000000</td>\n",
       "      <td>0.000000</td>\n",
       "      <td>0.0</td>\n",
       "      <td>3333</td>\n",
       "    </tr>\n",
       "    <tr>\n",
       "      <th>4</th>\n",
       "      <td>51.862490</td>\n",
       "      <td>0.000000</td>\n",
       "      <td>25.455917</td>\n",
       "      <td>0.0</td>\n",
       "      <td>48.505250</td>\n",
       "      <td>0.000000</td>\n",
       "      <td>0.000000</td>\n",
       "      <td>0.0</td>\n",
       "      <td>0.0</td>\n",
       "      <td>0.000000</td>\n",
       "      <td>...</td>\n",
       "      <td>27.024067</td>\n",
       "      <td>1.758605</td>\n",
       "      <td>0.0</td>\n",
       "      <td>17.696215</td>\n",
       "      <td>64.634834</td>\n",
       "      <td>0.000000</td>\n",
       "      <td>0.000000</td>\n",
       "      <td>9.861172</td>\n",
       "      <td>0.0</td>\n",
       "      <td>3333</td>\n",
       "    </tr>\n",
       "    <tr>\n",
       "      <th>...</th>\n",
       "      <td>...</td>\n",
       "      <td>...</td>\n",
       "      <td>...</td>\n",
       "      <td>...</td>\n",
       "      <td>...</td>\n",
       "      <td>...</td>\n",
       "      <td>...</td>\n",
       "      <td>...</td>\n",
       "      <td>...</td>\n",
       "      <td>...</td>\n",
       "      <td>...</td>\n",
       "      <td>...</td>\n",
       "      <td>...</td>\n",
       "      <td>...</td>\n",
       "      <td>...</td>\n",
       "      <td>...</td>\n",
       "      <td>...</td>\n",
       "      <td>...</td>\n",
       "      <td>...</td>\n",
       "      <td>...</td>\n",
       "      <td>...</td>\n",
       "    </tr>\n",
       "    <tr>\n",
       "      <th>6652</th>\n",
       "      <td>0.000000</td>\n",
       "      <td>8.917019</td>\n",
       "      <td>12.606703</td>\n",
       "      <td>0.0</td>\n",
       "      <td>0.000000</td>\n",
       "      <td>23.875010</td>\n",
       "      <td>0.000000</td>\n",
       "      <td>0.0</td>\n",
       "      <td>0.0</td>\n",
       "      <td>9.403310</td>\n",
       "      <td>...</td>\n",
       "      <td>0.000000</td>\n",
       "      <td>9.477231</td>\n",
       "      <td>0.0</td>\n",
       "      <td>0.000000</td>\n",
       "      <td>46.723995</td>\n",
       "      <td>0.000000</td>\n",
       "      <td>20.901190</td>\n",
       "      <td>7.003646</td>\n",
       "      <td>0.0</td>\n",
       "      <td>3454</td>\n",
       "    </tr>\n",
       "    <tr>\n",
       "      <th>6653</th>\n",
       "      <td>12.088920</td>\n",
       "      <td>3.646342</td>\n",
       "      <td>28.106102</td>\n",
       "      <td>0.0</td>\n",
       "      <td>0.000000</td>\n",
       "      <td>0.000000</td>\n",
       "      <td>0.000000</td>\n",
       "      <td>0.0</td>\n",
       "      <td>0.0</td>\n",
       "      <td>0.000000</td>\n",
       "      <td>...</td>\n",
       "      <td>0.000000</td>\n",
       "      <td>0.000000</td>\n",
       "      <td>0.0</td>\n",
       "      <td>0.000000</td>\n",
       "      <td>38.677414</td>\n",
       "      <td>0.000000</td>\n",
       "      <td>1.824834</td>\n",
       "      <td>7.562943</td>\n",
       "      <td>0.0</td>\n",
       "      <td>3454</td>\n",
       "    </tr>\n",
       "    <tr>\n",
       "      <th>6654</th>\n",
       "      <td>0.000000</td>\n",
       "      <td>0.000000</td>\n",
       "      <td>53.899130</td>\n",
       "      <td>0.0</td>\n",
       "      <td>0.000000</td>\n",
       "      <td>0.000000</td>\n",
       "      <td>12.079654</td>\n",
       "      <td>0.0</td>\n",
       "      <td>0.0</td>\n",
       "      <td>0.000000</td>\n",
       "      <td>...</td>\n",
       "      <td>12.388772</td>\n",
       "      <td>58.245360</td>\n",
       "      <td>0.0</td>\n",
       "      <td>0.000000</td>\n",
       "      <td>47.787598</td>\n",
       "      <td>5.880453</td>\n",
       "      <td>0.000000</td>\n",
       "      <td>3.556168</td>\n",
       "      <td>0.0</td>\n",
       "      <td>3454</td>\n",
       "    </tr>\n",
       "    <tr>\n",
       "      <th>6655</th>\n",
       "      <td>0.000000</td>\n",
       "      <td>0.000000</td>\n",
       "      <td>37.811558</td>\n",
       "      <td>0.0</td>\n",
       "      <td>0.000000</td>\n",
       "      <td>0.000000</td>\n",
       "      <td>8.555406</td>\n",
       "      <td>0.0</td>\n",
       "      <td>0.0</td>\n",
       "      <td>0.000000</td>\n",
       "      <td>...</td>\n",
       "      <td>7.663426</td>\n",
       "      <td>23.674717</td>\n",
       "      <td>0.0</td>\n",
       "      <td>0.000000</td>\n",
       "      <td>53.260387</td>\n",
       "      <td>3.350826</td>\n",
       "      <td>0.000000</td>\n",
       "      <td>8.673196</td>\n",
       "      <td>0.0</td>\n",
       "      <td>3454</td>\n",
       "    </tr>\n",
       "    <tr>\n",
       "      <th>6656</th>\n",
       "      <td>0.000000</td>\n",
       "      <td>0.000000</td>\n",
       "      <td>29.105694</td>\n",
       "      <td>0.0</td>\n",
       "      <td>0.000000</td>\n",
       "      <td>8.669491</td>\n",
       "      <td>20.568624</td>\n",
       "      <td>0.0</td>\n",
       "      <td>0.0</td>\n",
       "      <td>0.000000</td>\n",
       "      <td>...</td>\n",
       "      <td>11.354428</td>\n",
       "      <td>39.144600</td>\n",
       "      <td>0.0</td>\n",
       "      <td>0.000000</td>\n",
       "      <td>62.376480</td>\n",
       "      <td>13.449656</td>\n",
       "      <td>0.000000</td>\n",
       "      <td>10.945368</td>\n",
       "      <td>0.0</td>\n",
       "      <td>3454</td>\n",
       "    </tr>\n",
       "  </tbody>\n",
       "</table>\n",
       "<p>6657 rows × 65 columns</p>\n",
       "</div>"
      ],
      "text/plain": [
       "              0         1          2    3          4          5          6  \\\n",
       "0     27.630783  0.000000  51.067493  0.0  26.302004   0.000000   0.000000   \n",
       "1     41.934185  0.000000  57.616398  0.0  40.345722   0.000000   0.000000   \n",
       "2     59.681458  0.000000  35.450397  0.0  51.084698   0.000000   0.000000   \n",
       "3     25.652845  0.000000  42.711246  0.0  26.391441   0.000000   0.000000   \n",
       "4     51.862490  0.000000  25.455917  0.0  48.505250   0.000000   0.000000   \n",
       "...         ...       ...        ...  ...        ...        ...        ...   \n",
       "6652   0.000000  8.917019  12.606703  0.0   0.000000  23.875010   0.000000   \n",
       "6653  12.088920  3.646342  28.106102  0.0   0.000000   0.000000   0.000000   \n",
       "6654   0.000000  0.000000  53.899130  0.0   0.000000   0.000000  12.079654   \n",
       "6655   0.000000  0.000000  37.811558  0.0   0.000000   0.000000   8.555406   \n",
       "6656   0.000000  0.000000  29.105694  0.0   0.000000   8.669491  20.568624   \n",
       "\n",
       "        7    8         9  ...         55         56   57         58  \\\n",
       "0     0.0  0.0  0.000000  ...  35.563477   8.822042  0.0  18.269510   \n",
       "1     0.0  0.0  0.000000  ...  33.432617  22.573324  0.0  25.266916   \n",
       "2     0.0  0.0  4.531399  ...  17.747238  22.295591  0.0   9.600313   \n",
       "3     0.0  0.0  0.000000  ...  25.998358  12.029038  0.0  19.127953   \n",
       "4     0.0  0.0  0.000000  ...  27.024067   1.758605  0.0  17.696215   \n",
       "...   ...  ...       ...  ...        ...        ...  ...        ...   \n",
       "6652  0.0  0.0  9.403310  ...   0.000000   9.477231  0.0   0.000000   \n",
       "6653  0.0  0.0  0.000000  ...   0.000000   0.000000  0.0   0.000000   \n",
       "6654  0.0  0.0  0.000000  ...  12.388772  58.245360  0.0   0.000000   \n",
       "6655  0.0  0.0  0.000000  ...   7.663426  23.674717  0.0   0.000000   \n",
       "6656  0.0  0.0  0.000000  ...  11.354428  39.144600  0.0   0.000000   \n",
       "\n",
       "             59         60         61         62   63  class_name  \n",
       "0     82.596970   0.000000   0.000000   1.751286  0.0        3333  \n",
       "1     71.188900   0.000000   0.000000   0.000000  0.0        3333  \n",
       "2     39.380276   0.000000   0.000000  13.358544  0.0        3333  \n",
       "3     60.226376   0.000000   0.000000   0.000000  0.0        3333  \n",
       "4     64.634834   0.000000   0.000000   9.861172  0.0        3333  \n",
       "...         ...        ...        ...        ...  ...         ...  \n",
       "6652  46.723995   0.000000  20.901190   7.003646  0.0        3454  \n",
       "6653  38.677414   0.000000   1.824834   7.562943  0.0        3454  \n",
       "6654  47.787598   5.880453   0.000000   3.556168  0.0        3454  \n",
       "6655  53.260387   3.350826   0.000000   8.673196  0.0        3454  \n",
       "6656  62.376480  13.449656   0.000000  10.945368  0.0        3454  \n",
       "\n",
       "[6657 rows x 65 columns]"
      ]
     },
     "execution_count": 1,
     "metadata": {},
     "output_type": "execute_result"
    }
   ],
   "source": [
    "import pandas as pd\n",
    "import numpy as np\n",
    "data=pd.read_csv(\"extracted_features_charrec_dense7.csv\")\n",
    "data\n"
   ]
  },
  {
   "cell_type": "code",
   "execution_count": 3,
   "id": "55752802",
   "metadata": {},
   "outputs": [
    {
     "data": {
      "text/plain": [
       "113.88492503658134"
      ]
     },
     "execution_count": 3,
     "metadata": {},
     "output_type": "execute_result"
    }
   ],
   "source": [
    "#1\n",
    "np.dot(data[\"0\"],data[\"45\"])"
   ]
  },
  {
   "cell_type": "code",
   "execution_count": 4,
   "id": "e1a89b00",
   "metadata": {},
   "outputs": [
    {
     "data": {
      "text/plain": [
       "2435.502005891182"
      ]
     },
     "execution_count": 4,
     "metadata": {},
     "output_type": "execute_result"
    }
   ],
   "source": [
    "#1\n",
    "np.linalg.norm(data[\"0\"])"
   ]
  },
  {
   "cell_type": "code",
   "execution_count": 7,
   "id": "8cf612c6",
   "metadata": {},
   "outputs": [
    {
     "name": "stdout",
     "output_type": "stream",
     "text": [
      "0               31.041534\n",
      "1                0.309216\n",
      "2                9.149055\n",
      "3                0.007348\n",
      "4               37.098322\n",
      "                 ...     \n",
      "60               0.015213\n",
      "61               0.098929\n",
      "62              16.328774\n",
      "63               0.000000\n",
      "class_name    3334.000000\n",
      "Length: 65, dtype: float64\n"
     ]
    },
    {
     "data": {
      "text/plain": [
       "0               33.954744\n",
       "1                7.803311\n",
       "2                0.929065\n",
       "3                0.000000\n",
       "4               48.753925\n",
       "                 ...     \n",
       "60               0.035407\n",
       "61               5.166118\n",
       "62              24.849326\n",
       "63               0.000000\n",
       "class_name    3335.000000\n",
       "Length: 65, dtype: float64"
      ]
     },
     "execution_count": 7,
     "metadata": {},
     "output_type": "execute_result"
    }
   ],
   "source": [
    "#1\n",
    "class_A_data = data[data['class_name'] == 3334]\n",
    "class_B_data = data[data['class_name'] == 3335]\n",
    "cent_A = np.mean(class_A_data, axis=0)\n",
    "cent_B = np.mean(class_B_data, axis=0)\n",
    "print(cent_A)\n",
    "cent_B\n"
   ]
  },
  {
   "cell_type": "code",
   "execution_count": 8,
   "id": "3d77cc47",
   "metadata": {},
   "outputs": [
    {
     "name": "stdout",
     "output_type": "stream",
     "text": [
      "0             14.335537\n",
      "1              1.235295\n",
      "2             10.245662\n",
      "3              0.085372\n",
      "4             17.987949\n",
      "                ...    \n",
      "60             0.155484\n",
      "61             0.817670\n",
      "62             8.022698\n",
      "63             0.000000\n",
      "class_name     0.000000\n",
      "Length: 65, dtype: float64\n"
     ]
    },
    {
     "data": {
      "text/plain": [
       "0             14.117133\n",
       "1              4.608137\n",
       "2              4.158898\n",
       "3              0.000000\n",
       "4             21.907818\n",
       "                ...    \n",
       "60             0.435084\n",
       "61             6.307505\n",
       "62            10.803543\n",
       "63             0.000000\n",
       "class_name     0.000000\n",
       "Length: 65, dtype: float64"
      ]
     },
     "execution_count": 8,
     "metadata": {},
     "output_type": "execute_result"
    }
   ],
   "source": [
    "cent_A = np.std(class_A_data,axis=0)\n",
    "cent_B = np.std(class_B_data,axis=0)\n",
    "print(cent_A)\n",
    "cent_B"
   ]
  },
  {
   "cell_type": "code",
   "execution_count": 10,
   "id": "60e9a5c4",
   "metadata": {},
   "outputs": [
    {
     "data": {
      "text/plain": [
       "32.2593893920739"
      ]
     },
     "execution_count": 10,
     "metadata": {},
     "output_type": "execute_result"
    }
   ],
   "source": [
    "cent_dist = np.linalg.norm(cent_A - cent_B)\n",
    "cent_dist"
   ]
  },
  {
   "cell_type": "code",
   "execution_count": 11,
   "id": "ea370201",
   "metadata": {},
   "outputs": [
    {
     "data": {
      "image/png": "[encoded data removed]",
      "text/plain": [
       "<Figure size 640x480 with 1 Axes>"
      ]
     },
     "metadata": {},
     "output_type": "display_data"
    }
   ],
   "source": [
    "#2\n",
    "import matplotlib.pyplot as plt\n",
    "\n",
    "selected_feature = data['0']\n",
    "num_bins =15\n",
    "hist, bins = np.histogram(selected_feature, bins=num_bins)\n",
    "\n",
    "plt.hist(selected_feature, bins=num_bins,  color='w', edgecolor='black')\n",
    "plt.xlabel('Value')\n",
    "plt.ylabel('Frequency')\n",
    "plt.title('Histogram of Selected Feature')\n",
    "plt.show()\n"
   ]
  },
  {
   "cell_type": "code",
   "execution_count": 13,
   "id": "64b50382",
   "metadata": {},
   "outputs": [
    {
     "data": {
      "image/png": "[encoded data removed]",
      "text/plain": [
       "<Figure size 640x480 with 1 Axes>"
      ]
     },
     "metadata": {},
     "output_type": "display_data"
    }
   ],
   "source": [
    "#3\n",
    "vector1 = data.iloc[0, :]  \n",
    "vector2 = data.iloc[1, :]  \n",
    "distances = []\n",
    "r_values = list(range(1, 11))\n",
    "for r in r_values:\n",
    "    distance = np.power(np.sum(np.abs(vector1 - vector2) ** r), 1/r)\n",
    "    distances.append(distance)\n",
    "\n",
    "plt.plot(r_values, distances, marker='s', linestyle=':')\n",
    "plt.xlabel('r')\n",
    "plt.ylabel('Minkowski Distance')\n",
    "plt.title('Minkowski Distance vs. r')\n",
    "plt.grid(True)\n",
    "plt.show()"
   ]
  },
  {
   "cell_type": "code",
   "execution_count": 76,
   "id": "41ee6de4",
   "metadata": {},
   "outputs": [],
   "source": [
    "#4\n",
    "from sklearn.model_selection import train_test_split\n",
    "X = df.iloc[:, :-1]\n",
    "y = df.iloc[:, -1]\n",
    "\n",
    "X_train, X_test, y_train, y_test = train_test_split(X, y, test_size=0.3)\n"
   ]
  },
  {
   "cell_type": "code",
   "execution_count": 77,
   "id": "7c577d7d",
   "metadata": {},
   "outputs": [
    {
     "data": {
      "text/plain": [
       "1341    3350\n",
       "71      3333\n",
       "937     3346\n",
       "5087    3375\n",
       "2013    3355\n",
       "        ... \n",
       "4355    3368\n",
       "2498    3359\n",
       "2381    3358\n",
       "221     3334\n",
       "4668    3371\n",
       "Name: class_name, Length: 1998, dtype: int64"
      ]
     },
     "execution_count": 77,
     "metadata": {},
     "output_type": "execute_result"
    }
   ],
   "source": [
    "y_test"
   ]
  },
  {
   "cell_type": "code",
   "execution_count": 79,
   "id": "8db7848e",
   "metadata": {},
   "outputs": [
    {
     "name": "stdout",
     "output_type": "stream",
     "text": [
      "              0         1          2    3          4          5          6  \\\n",
      "0     27.630783  0.000000  51.067493  0.0  26.302004   0.000000   0.000000   \n",
      "1     41.934185  0.000000  57.616398  0.0  40.345722   0.000000   0.000000   \n",
      "2     59.681458  0.000000  35.450397  0.0  51.084698   0.000000   0.000000   \n",
      "3     25.652845  0.000000  42.711246  0.0  26.391441   0.000000   0.000000   \n",
      "4     51.862490  0.000000  25.455917  0.0  48.505250   0.000000   0.000000   \n",
      "...         ...       ...        ...  ...        ...        ...        ...   \n",
      "6652   0.000000  8.917019  12.606703  0.0   0.000000  23.875010   0.000000   \n",
      "6653  12.088920  3.646342  28.106102  0.0   0.000000   0.000000   0.000000   \n",
      "6654   0.000000  0.000000  53.899130  0.0   0.000000   0.000000  12.079654   \n",
      "6655   0.000000  0.000000  37.811558  0.0   0.000000   0.000000   8.555406   \n",
      "6656   0.000000  0.000000  29.105694  0.0   0.000000   8.669491  20.568624   \n",
      "\n",
      "        7    8         9  ...         55         56   57         58  \\\n",
      "0     0.0  0.0  0.000000  ...  35.563477   8.822042  0.0  18.269510   \n",
      "1     0.0  0.0  0.000000  ...  33.432617  22.573324  0.0  25.266916   \n",
      "2     0.0  0.0  4.531399  ...  17.747238  22.295591  0.0   9.600313   \n",
      "3     0.0  0.0  0.000000  ...  25.998358  12.029038  0.0  19.127953   \n",
      "4     0.0  0.0  0.000000  ...  27.024067   1.758605  0.0  17.696215   \n",
      "...   ...  ...       ...  ...        ...        ...  ...        ...   \n",
      "6652  0.0  0.0  9.403310  ...   0.000000   9.477231  0.0   0.000000   \n",
      "6653  0.0  0.0  0.000000  ...   0.000000   0.000000  0.0   0.000000   \n",
      "6654  0.0  0.0  0.000000  ...  12.388772  58.245360  0.0   0.000000   \n",
      "6655  0.0  0.0  0.000000  ...   7.663426  23.674717  0.0   0.000000   \n",
      "6656  0.0  0.0  0.000000  ...  11.354428  39.144600  0.0   0.000000   \n",
      "\n",
      "             59         60         61         62   63  class_name  \n",
      "0     82.596970   0.000000   0.000000   1.751286  0.0        3333  \n",
      "1     71.188900   0.000000   0.000000   0.000000  0.0        3333  \n",
      "2     39.380276   0.000000   0.000000  13.358544  0.0        3333  \n",
      "3     60.226376   0.000000   0.000000   0.000000  0.0        3333  \n",
      "4     64.634834   0.000000   0.000000   9.861172  0.0        3333  \n",
      "...         ...        ...        ...        ...  ...         ...  \n",
      "6652  46.723995   0.000000  20.901190   7.003646  0.0        3454  \n",
      "6653  38.677414   0.000000   1.824834   7.562943  0.0        3454  \n",
      "6654  47.787598   5.880453   0.000000   3.556168  0.0        3454  \n",
      "6655  53.260387   3.350826   0.000000   8.673196  0.0        3454  \n",
      "6656  62.376480  13.449656   0.000000  10.945368  0.0        3454  \n",
      "\n",
      "[6657 rows x 65 columns]\n"
     ]
    },
    {
     "data": {
      "text/plain": [
       "(6657, 65)"
      ]
     },
     "execution_count": 79,
     "metadata": {},
     "output_type": "execute_result"
    }
   ],
   "source": [
    "import pandas as pd\n",
    "import numpy as np\n",
    "import seaborn as sns\n",
    "import matplotlib.pyplot as plt\n",
    "from sklearn.model_selection import train_test_split\n",
    "\n",
    "from sklearn.neighbors import KNeighborsClassifier\n",
    "from sklearn.metrics import accuracy_score\n",
    "\n",
    "from sklearn.model_selection import train_test_split\n",
    "\n",
    "dt=pd.read_csv(\"extracted_features_charrec_dense7.csv\")\n",
    "print(dt)\n",
    "dt.shape"
   ]
  },
  {
   "cell_type": "code",
   "execution_count": 81,
   "id": "72951070",
   "metadata": {},
   "outputs": [],
   "source": [
    "\n",
    "data = np.genfromtxt(\"extracted_features_charrec_dense7.csv\", delimiter=',', skip_header=1)\n",
    "\n",
    "# Extract feature vectors and class labels\n",
    "X = data[:, :-1]\n",
    "y = data[:, -1]\n",
    "\n",
    "np.savez('extracted_features_charrec_dense7.npz', X=X, y=y)\n"
   ]
  },
  {
   "cell_type": "code",
   "execution_count": 27,
   "id": "e486b09a",
   "metadata": {},
   "outputs": [
    {
     "data": {
      "text/plain": [
       "array([0.0000000e+00, 3.4163892e-04, 4.6131015e-04, ..., 3.4520000e+03,\n",
       "       3.4530000e+03, 3.4540000e+03])"
      ]
     },
     "execution_count": 27,
     "metadata": {},
     "output_type": "execute_result"
    }
   ],
   "source": [
    "np.unique(data)"
   ]
  },
  {
   "cell_type": "code",
   "execution_count": 28,
   "id": "24f7ab8f",
   "metadata": {},
   "outputs": [
    {
     "data": {
      "text/plain": [
       "array([[2.7630783e+01, 0.0000000e+00, 5.1067493e+01, ..., 1.7512865e+00,\n",
       "        0.0000000e+00, 3.3330000e+03],\n",
       "       [4.1934185e+01, 0.0000000e+00, 5.7616398e+01, ..., 0.0000000e+00,\n",
       "        0.0000000e+00, 3.3330000e+03],\n",
       "       [5.9681458e+01, 0.0000000e+00, 3.5450397e+01, ..., 1.3358544e+01,\n",
       "        0.0000000e+00, 3.3330000e+03],\n",
       "       ...,\n",
       "       [0.0000000e+00, 0.0000000e+00, 5.3899130e+01, ..., 3.5561680e+00,\n",
       "        0.0000000e+00, 3.4540000e+03],\n",
       "       [0.0000000e+00, 0.0000000e+00, 3.7811558e+01, ..., 8.6731960e+00,\n",
       "        0.0000000e+00, 3.4540000e+03],\n",
       "       [0.0000000e+00, 0.0000000e+00, 2.9105694e+01, ..., 1.0945368e+01,\n",
       "        0.0000000e+00, 3.4540000e+03]])"
      ]
     },
     "execution_count": 28,
     "metadata": {},
     "output_type": "execute_result"
    }
   ],
   "source": [
    "zero_rows_mask = (data==0).any(axis=1)\n",
    "class1= data[zero_rows_mask]\n",
    "class1"
   ]
  },
  {
   "cell_type": "code",
   "execution_count": 30,
   "id": "849dd648",
   "metadata": {},
   "outputs": [
    {
     "data": {
      "text/plain": [
       "array([[   0.       ,    3.5745394,   31.44596  , ...,    0.       ,\n",
       "           0.       , 3454.       ],\n",
       "       [   0.       ,    9.891518 ,   17.99879  , ...,    0.       ,\n",
       "           0.       , 3454.       ],\n",
       "       [   0.       ,    9.891518 ,   17.99879  , ...,    0.       ,\n",
       "           0.       , 3454.       ],\n",
       "       ...,\n",
       "       [   0.       ,    0.       ,   53.89913  , ...,    3.556168 ,\n",
       "           0.       , 3454.       ],\n",
       "       [   0.       ,    0.       ,   37.811558 , ...,    8.673196 ,\n",
       "           0.       , 3454.       ],\n",
       "       [   0.       ,    0.       ,   29.105694 , ...,   10.945368 ,\n",
       "           0.       , 3454.       ]])"
      ]
     },
     "execution_count": 30,
     "metadata": {},
     "output_type": "execute_result"
    }
   ],
   "source": [
    "one_rows_mask = (data == 3.4540000e+03).any(axis=1)\n",
    "class2=data[one_rows_mask]\n",
    "class2"
   ]
  },
  {
   "cell_type": "code",
   "execution_count": 31,
   "id": "34195ac6",
   "metadata": {},
   "outputs": [
    {
     "data": {
      "text/html": [
       "<style>#sk-container-id-1 {color: black;}#sk-container-id-1 pre{padding: 0;}#sk-container-id-1 div.sk-toggleable {background-color: white;}#sk-container-id-1 label.sk-toggleable__label {cursor: pointer;display: block;width: 100%;margin-bottom: 0;padding: 0.3em;box-sizing: border-box;text-align: center;}#sk-container-id-1 label.sk-toggleable__label-arrow:before {content: \"▸\";float: left;margin-right: 0.25em;color: #696969;}#sk-container-id-1 label.sk-toggleable__label-arrow:hover:before {color: black;}#sk-container-id-1 div.sk-estimator:hover label.sk-toggleable__label-arrow:before {color: black;}#sk-container-id-1 div.sk-toggleable__content {max-height: 0;max-width: 0;overflow: hidden;text-align: left;background-color: #f0f8ff;}#sk-container-id-1 div.sk-toggleable__content pre {margin: 0.2em;color: black;border-radius: 0.25em;background-color: #f0f8ff;}#sk-container-id-1 input.sk-toggleable__control:checked~div.sk-toggleable__content {max-height: 200px;max-width: 100%;overflow: auto;}#sk-container-id-1 input.sk-toggleable__control:checked~label.sk-toggleable__label-arrow:before {content: \"▾\";}#sk-container-id-1 div.sk-estimator input.sk-toggleable__control:checked~label.sk-toggleable__label {background-color: #d4ebff;}#sk-container-id-1 div.sk-label input.sk-toggleable__control:checked~label.sk-toggleable__label {background-color: #d4ebff;}#sk-container-id-1 input.sk-hidden--visually {border: 0;clip: rect(1px 1px 1px 1px);clip: rect(1px, 1px, 1px, 1px);height: 1px;margin: -1px;overflow: hidden;padding: 0;position: absolute;width: 1px;}#sk-container-id-1 div.sk-estimator {font-family: monospace;background-color: #f0f8ff;border: 1px dotted black;border-radius: 0.25em;box-sizing: border-box;margin-bottom: 0.5em;}#sk-container-id-1 div.sk-estimator:hover {background-color: #d4ebff;}#sk-container-id-1 div.sk-parallel-item::after {content: \"\";width: 100%;border-bottom: 1px solid gray;flex-grow: 1;}#sk-container-id-1 div.sk-label:hover label.sk-toggleable__label {background-color: #d4ebff;}#sk-container-id-1 div.sk-serial::before {content: \"\";position: absolute;border-left: 1px solid gray;box-sizing: border-box;top: 0;bottom: 0;left: 50%;z-index: 0;}#sk-container-id-1 div.sk-serial {display: flex;flex-direction: column;align-items: center;background-color: white;padding-right: 0.2em;padding-left: 0.2em;position: relative;}#sk-container-id-1 div.sk-item {position: relative;z-index: 1;}#sk-container-id-1 div.sk-parallel {display: flex;align-items: stretch;justify-content: center;background-color: white;position: relative;}#sk-container-id-1 div.sk-item::before, #sk-container-id-1 div.sk-parallel-item::before {content: \"\";position: absolute;border-left: 1px solid gray;box-sizing: border-box;top: 0;bottom: 0;left: 50%;z-index: -1;}#sk-container-id-1 div.sk-parallel-item {display: flex;flex-direction: column;z-index: 1;position: relative;background-color: white;}#sk-container-id-1 div.sk-parallel-item:first-child::after {align-self: flex-end;width: 50%;}#sk-container-id-1 div.sk-parallel-item:last-child::after {align-self: flex-start;width: 50%;}#sk-container-id-1 div.sk-parallel-item:only-child::after {width: 0;}#sk-container-id-1 div.sk-dashed-wrapped {border: 1px dashed gray;margin: 0 0.4em 0.5em 0.4em;box-sizing: border-box;padding-bottom: 0.4em;background-color: white;}#sk-container-id-1 div.sk-label label {font-family: monospace;font-weight: bold;display: inline-block;line-height: 1.2em;}#sk-container-id-1 div.sk-label-container {text-align: center;}#sk-container-id-1 div.sk-container {/* jupyter's `normalize.less` sets `[hidden] { display: none; }` but bootstrap.min.css set `[hidden] { display: none !important; }` so we also need the `!important` here to be able to override the default hidden behavior on the sphinx rendered scikit-learn.org. See: https://github.com/scikit-learn/scikit-learn/issues/21755 */display: inline-block !important;position: relative;}#sk-container-id-1 div.sk-text-repr-fallback {display: none;}</style><div id=\"sk-container-id-1\" class=\"sk-top-container\"><div class=\"sk-text-repr-fallback\"><pre>KNeighborsClassifier(n_neighbors=3)</pre><b>In a Jupyter environment, please rerun this cell to show the HTML representation or trust the notebook. <br />On GitHub, the HTML representation is unable to render, please try loading this page with nbviewer.org.</b></div><div class=\"sk-container\" hidden><div class=\"sk-item\"><div class=\"sk-estimator sk-toggleable\"><input class=\"sk-toggleable__control sk-hidden--visually\" id=\"sk-estimator-id-1\" type=\"checkbox\" checked><label for=\"sk-estimator-id-1\" class=\"sk-toggleable__label sk-toggleable__label-arrow\">KNeighborsClassifier</label><div class=\"sk-toggleable__content\"><pre>KNeighborsClassifier(n_neighbors=3)</pre></div></div></div></div></div>"
      ],
      "text/plain": [
       "KNeighborsClassifier(n_neighbors=3)"
      ]
     },
     "execution_count": 31,
     "metadata": {},
     "output_type": "execute_result"
    }
   ],
   "source": [
    "#5\n",
    "from sklearn.neighbors import KNeighborsClassifier\n",
    "from sklearn.model_selection import train_test_split\n",
    "\n",
    "\n",
    "\n",
    "X = data[:, :-1]\n",
    "y = data[:, -1]\n",
    "\n",
    "\\\n",
    "X_train, X_test, y_train, y_test = train_test_split(X, y, test_size=0.3, random_state=42)# Split data into training and testing sets\n",
    "\n",
    "neigh = KNeighborsClassifier(n_neighbors=3)# Create kNN classifier with k=3\n",
    "neigh.fit(X_train, y_train)"
   ]
  },
  {
   "cell_type": "code",
   "execution_count": null,
   "id": "70bec0c3",
   "metadata": {},
   "outputs": [],
   "source": []
  }
 ],
 "metadata": {
  "kernelspec": {
   "display_name": "Python 3 (ipykernel)",
   "language": "python",
   "name": "python3"
  },
  "language_info": {
   "codemirror_mode": {
    "name": "ipython",
    "version": 3
   },
   "file_extension": ".py",
   "mimetype": "text/x-python",
   "name": "python",
   "nbconvert_exporter": "python",
   "pygments_lexer": "ipython3",
   "version": "3.11.4"
  }
 },
 "nbformat": 4,
 "nbformat_minor": 5
}
